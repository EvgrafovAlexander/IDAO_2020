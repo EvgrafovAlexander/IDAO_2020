{
 "cells": [
  {
   "cell_type": "markdown",
   "metadata": {},
   "source": [
    "# 04_IDAO_Preproc_Test_Interpolate\n",
    "\n",
    "* поминутная интерполяция значений тестового датасета"
   ]
  },
  {
   "cell_type": "code",
   "execution_count": 2,
   "metadata": {},
   "outputs": [],
   "source": [
    "import sys\n",
    "import warnings\n",
    "warnings.filterwarnings('ignore')\n",
    "\n",
    "import math\n",
    "from datetime import datetime, timedelta\n",
    "\n",
    "import matplotlib.pylab as plt\n",
    "import pandas as pd\n",
    "import numpy as np\n",
    "\n",
    "from scipy import interpolate"
   ]
  },
  {
   "cell_type": "code",
   "execution_count": 3,
   "metadata": {},
   "outputs": [],
   "source": [
    "#Тренировочные данные\n",
    "df_train = pd.read_csv('data/train_proc_with_id.csv', index_col='datetime', parse_dates=True)\n",
    "#Тестовые данные\n",
    "df_test = pd.read_csv('data/Track 1/test_proc_with_id.csv', index_col='datetime', parse_dates=True)\n",
    "\n",
    "# Задача 1\n",
    "submission = pd.read_csv('data/Track 1/submission.csv')\n",
    "\n",
    "df_train = df_train.drop(['Unnamed: 0'], axis=1)\n",
    "df_test = df_test.drop(['Unnamed: 0'], axis=1)"
   ]
  },
  {
   "cell_type": "code",
   "execution_count": 4,
   "metadata": {},
   "outputs": [
    {
     "data": {
      "text/html": [
       "<div>\n",
       "<style scoped>\n",
       "    .dataframe tbody tr th:only-of-type {\n",
       "        vertical-align: middle;\n",
       "    }\n",
       "\n",
       "    .dataframe tbody tr th {\n",
       "        vertical-align: top;\n",
       "    }\n",
       "\n",
       "    .dataframe thead th {\n",
       "        text-align: right;\n",
       "    }\n",
       "</style>\n",
       "<table border=\"1\" class=\"dataframe\">\n",
       "  <thead>\n",
       "    <tr style=\"text-align: right;\">\n",
       "      <th></th>\n",
       "      <th>id</th>\n",
       "      <th>sat_id</th>\n",
       "      <th>x_sim</th>\n",
       "      <th>y_sim</th>\n",
       "      <th>z_sim</th>\n",
       "      <th>Vx_sim</th>\n",
       "      <th>Vy_sim</th>\n",
       "      <th>Vz_sim</th>\n",
       "    </tr>\n",
       "    <tr>\n",
       "      <th>datetime</th>\n",
       "      <th></th>\n",
       "      <th></th>\n",
       "      <th></th>\n",
       "      <th></th>\n",
       "      <th></th>\n",
       "      <th></th>\n",
       "      <th></th>\n",
       "      <th></th>\n",
       "    </tr>\n",
       "  </thead>\n",
       "  <tbody>\n",
       "    <tr>\n",
       "      <td>2014-02-01 00:01:45</td>\n",
       "      <td>3927</td>\n",
       "      <td>1</td>\n",
       "      <td>-13366.891347</td>\n",
       "      <td>-14236.753503</td>\n",
       "      <td>6386.774555</td>\n",
       "      <td>4.333815</td>\n",
       "      <td>-0.692764</td>\n",
       "      <td>0.810774</td>\n",
       "    </tr>\n",
       "    <tr>\n",
       "      <td>2014-02-01 00:22:57</td>\n",
       "      <td>3928</td>\n",
       "      <td>1</td>\n",
       "      <td>-7370.434039</td>\n",
       "      <td>-14498.771520</td>\n",
       "      <td>7130.411325</td>\n",
       "      <td>5.077413</td>\n",
       "      <td>0.360609</td>\n",
       "      <td>0.313402</td>\n",
       "    </tr>\n",
       "    <tr>\n",
       "      <td>2014-02-01 00:44:08</td>\n",
       "      <td>3929</td>\n",
       "      <td>1</td>\n",
       "      <td>-572.068654</td>\n",
       "      <td>-13065.289498</td>\n",
       "      <td>7033.794876</td>\n",
       "      <td>5.519106</td>\n",
       "      <td>2.012830</td>\n",
       "      <td>-0.539412</td>\n",
       "    </tr>\n",
       "  </tbody>\n",
       "</table>\n",
       "</div>"
      ],
      "text/plain": [
       "                       id  sat_id         x_sim         y_sim        z_sim  \\\n",
       "datetime                                                                     \n",
       "2014-02-01 00:01:45  3927       1 -13366.891347 -14236.753503  6386.774555   \n",
       "2014-02-01 00:22:57  3928       1  -7370.434039 -14498.771520  7130.411325   \n",
       "2014-02-01 00:44:08  3929       1   -572.068654 -13065.289498  7033.794876   \n",
       "\n",
       "                       Vx_sim    Vy_sim    Vz_sim  \n",
       "datetime                                           \n",
       "2014-02-01 00:01:45  4.333815 -0.692764  0.810774  \n",
       "2014-02-01 00:22:57  5.077413  0.360609  0.313402  \n",
       "2014-02-01 00:44:08  5.519106  2.012830 -0.539412  "
      ]
     },
     "execution_count": 4,
     "metadata": {},
     "output_type": "execute_result"
    }
   ],
   "source": [
    "df_test.head(3)"
   ]
  },
  {
   "cell_type": "markdown",
   "metadata": {},
   "source": [
    "Добавим столбец, переводящий время в абсолютное значение:"
   ]
  },
  {
   "cell_type": "code",
   "execution_count": 5,
   "metadata": {},
   "outputs": [],
   "source": [
    "df_test = df_test.reset_index()\n",
    "df_test['time'] = (df_test['datetime'] - np.datetime64('1970-01-01 00:00:00')) / np.timedelta64(1, 's')"
   ]
  },
  {
   "cell_type": "markdown",
   "metadata": {},
   "source": [
    "Вычислим индексы с совпадающими метками времени для дальнейшей обработки:"
   ]
  },
  {
   "cell_type": "code",
   "execution_count": 6,
   "metadata": {},
   "outputs": [],
   "source": [
    "equal_values = []\n",
    "for i in range(df_test.shape[0] - 1):\n",
    "    time_prv = list(df_test.loc[i, ['datetime']])\n",
    "    time_now = list(df_test.loc[i + 1, ['datetime']])\n",
    "    if time_prv == time_now:\n",
    "        equal_values.append(i)"
   ]
  },
  {
   "cell_type": "markdown",
   "metadata": {},
   "source": [
    "Исправим совпадающие временные метки при помощи уравнения равноускоренного движения:"
   ]
  },
  {
   "cell_type": "code",
   "execution_count": 8,
   "metadata": {},
   "outputs": [],
   "source": [
    "def improve_time_equals(df, equals_list):\n",
    "    amount = len(equals_list)\n",
    "    count = 0\n",
    "    \n",
    "    for id0 in equals_list:\n",
    "        id1 = id0 + 1\n",
    "        id2 = id0 + 2\n",
    "        \n",
    "        x0 = float(df.loc[id0, ['x_sim']])\n",
    "        x1 = float(df.loc[id1, ['x_sim']])\n",
    "        x2 = float(df.loc[id2, ['x_sim']])\n",
    "\n",
    "        S02 = x2 - x0\n",
    "\n",
    "        V0 = float(df.loc[id0, ['Vx_sim']])\n",
    "        V1 = float(df.loc[id1, ['Vx_sim']])\n",
    "        V2 = float(df.loc[id2, ['Vx_sim']])\n",
    "\n",
    "        t0 = float(df.loc[id0, ['time']])\n",
    "        t2 = float(df.loc[id2, ['time']])\n",
    "        \n",
    "        T02 = t2 - t0\n",
    "        \n",
    "        a = 2 * (S02 - V0 * T02) / T02**2\n",
    "        \n",
    "        A = a / 2\n",
    "        B = V0\n",
    "        C = x0 - x1\n",
    "\n",
    "        discr = B ** 2 - 4 * A * C\n",
    "        if discr >= 0:\n",
    "            count += 1\n",
    "            t1_1 = int((-B - math.sqrt(discr)) / (2 * A))\n",
    "            t1_2 = int((-B + math.sqrt(discr)) / (2 * A))\n",
    "            if min(t1_1, t1_2) < 0:\n",
    "                t1 = max(t1_1, t1_2)\n",
    "            else:\n",
    "                t1 = min(t1_1, t1_2)\n",
    "            time_delta = timedelta(seconds=t1)\n",
    "            df.loc[id1, ['datetime']] = df.loc[id1, ['datetime']] + time_delta\n",
    "    return df"
   ]
  },
  {
   "cell_type": "code",
   "execution_count": 9,
   "metadata": {},
   "outputs": [],
   "source": [
    "df_test_improved = improve_time_equals(df_test, equal_values)"
   ]
  },
  {
   "cell_type": "markdown",
   "metadata": {},
   "source": [
    "Не все значения удалось исправить. Получим список неисправленных значений:"
   ]
  },
  {
   "cell_type": "code",
   "execution_count": 10,
   "metadata": {},
   "outputs": [],
   "source": [
    "equal_values = []\n",
    "for i in range(df_test_improved.shape[0] - 1):\n",
    "    time_prv = list(df_test_improved.loc[i, ['datetime']])\n",
    "    time_now = list(df_test_improved.loc[i + 1, ['datetime']])\n",
    "    if time_prv == time_now:\n",
    "        equal_values.append(i)"
   ]
  },
  {
   "cell_type": "markdown",
   "metadata": {},
   "source": [
    "Исправим оставшиеся значения. В качестве метки времени выберем момент времени, равноудалённый от соседних точек."
   ]
  },
  {
   "cell_type": "code",
   "execution_count": 11,
   "metadata": {},
   "outputs": [],
   "source": [
    "def improve_time_equals_last(df, equals_list):\n",
    "    for id0 in equals_list:\n",
    "        id1 = id0 + 1\n",
    "        id2 = id0 + 2\n",
    "        time0 = df.loc[id0, ['time']]\n",
    "        time2 = df.loc[id0 + 2, ['time']]\n",
    "        delta = int((time2 - time0)/2)\n",
    "        time_delta = timedelta(seconds=delta)\n",
    "        df.loc[id1, ['datetime']] = df.loc[id1, ['datetime']] + time_delta\n",
    "    return df"
   ]
  },
  {
   "cell_type": "code",
   "execution_count": 12,
   "metadata": {},
   "outputs": [],
   "source": [
    "df_test_improved = improve_time_equals_last(df_test_improved, equal_values)"
   ]
  },
  {
   "cell_type": "markdown",
   "metadata": {},
   "source": [
    "Получим список спутников из тестовой выборки:"
   ]
  },
  {
   "cell_type": "code",
   "execution_count": 13,
   "metadata": {},
   "outputs": [],
   "source": [
    "set_test_satellites_id = set(df_test['sat_id'])"
   ]
  },
  {
   "cell_type": "markdown",
   "metadata": {},
   "source": [
    "Функции, обеспечивающие интерполяцию значений:"
   ]
  },
  {
   "cell_type": "code",
   "execution_count": 14,
   "metadata": {},
   "outputs": [],
   "source": [
    "# производит разметку по времени в выборке значений одного спутника\n",
    "def resample_for_interpolate(df_one_sat):\n",
    "    df_one_sat['date'] = df_one_sat.index\n",
    "    df_one_sat['time'] = (df_one_sat['date'] - np.datetime64('1970-01-01 00:00:00')) / np.timedelta64(1, 's')\n",
    "    df_one_sat = df_one_sat.resample('min').mean()\n",
    "    df_one_sat['date'] = df_one_sat.index\n",
    "    df_one_sat['time'] = (df_one_sat['date'] - np.datetime64('1970-01-01 00:00:00')) / np.timedelta64(1, 's')\n",
    "    return df_one_sat"
   ]
  },
  {
   "cell_type": "code",
   "execution_count": 15,
   "metadata": {},
   "outputs": [],
   "source": [
    "# интерполирует одну колонку датафрейма\n",
    "def interpolate_col_df(df_one_sat, df_one_sat_resampled, column='x'):\n",
    "    x = df_one_sat['time']\n",
    "    y = df_one_sat[column]\n",
    "    xnew = df_one_sat_resampled['time']\n",
    "    f = interpolate.interp1d(x, y, fill_value=\"extrapolate\")\n",
    "    ynew = f(xnew)\n",
    "    df_one_sat_resampled[column] = ynew\n",
    "    return df_one_sat_resampled"
   ]
  },
  {
   "cell_type": "code",
   "execution_count": 16,
   "metadata": {},
   "outputs": [],
   "source": [
    "# интерполирует весь датафрейм\n",
    "def df_interpolate(df):\n",
    "    df_result = pd.DataFrame(columns=['sat_id',\n",
    "                                     'id', 'x_sim', 'y_sim', 'z_sim', 'Vx_sim', 'Vy_sim', 'Vz_sim',\n",
    "                                     'time', 'date'])\n",
    "    \n",
    "    for sat in list(set_test_satellites_id):\n",
    "        df_one_sat = df.query('sat_id == @sat')\n",
    "        df_one_sat_resampled = resample_for_interpolate(df_one_sat)\n",
    "\n",
    "        df_interpolated = interpolate_col_df(df_one_sat, df_one_sat_resampled, 'sat_id')\n",
    "        df_interpolated = interpolate_col_df(df_one_sat, df_one_sat_resampled, 'x_sim')\n",
    "        df_interpolated = interpolate_col_df(df_one_sat, df_one_sat_resampled, 'y_sim')\n",
    "        df_interpolated = interpolate_col_df(df_one_sat, df_one_sat_resampled, 'z_sim')\n",
    "        df_interpolated = interpolate_col_df(df_one_sat, df_one_sat_resampled, 'Vx_sim')\n",
    "        df_interpolated = interpolate_col_df(df_one_sat, df_one_sat_resampled, 'Vy_sim')\n",
    "        df_interpolated = interpolate_col_df(df_one_sat, df_one_sat_resampled, 'Vz_sim')\n",
    "        \n",
    "        df_result = pd.concat([df_result, df_interpolated])\n",
    "    \n",
    "    return df_result"
   ]
  },
  {
   "cell_type": "markdown",
   "metadata": {},
   "source": [
    "Вернём датасет к исходному виду:"
   ]
  },
  {
   "cell_type": "code",
   "execution_count": 17,
   "metadata": {},
   "outputs": [],
   "source": [
    "df_test_improved.index = df_test_improved['datetime']\n",
    "df_test_improved = df_test_improved.drop(['datetime', 'time'], axis=1)"
   ]
  },
  {
   "cell_type": "markdown",
   "metadata": {},
   "source": [
    "Применим интерполяцию к тестовому датасету:"
   ]
  },
  {
   "cell_type": "code",
   "execution_count": 18,
   "metadata": {},
   "outputs": [],
   "source": [
    "df_final = df_interpolate(df_test_improved)"
   ]
  },
  {
   "cell_type": "markdown",
   "metadata": {},
   "source": [
    "Проверим полученный датасет:"
   ]
  },
  {
   "cell_type": "code",
   "execution_count": 19,
   "metadata": {},
   "outputs": [
    {
     "data": {
      "text/html": [
       "<div>\n",
       "<style scoped>\n",
       "    .dataframe tbody tr th:only-of-type {\n",
       "        vertical-align: middle;\n",
       "    }\n",
       "\n",
       "    .dataframe tbody tr th {\n",
       "        vertical-align: top;\n",
       "    }\n",
       "\n",
       "    .dataframe thead th {\n",
       "        text-align: right;\n",
       "    }\n",
       "</style>\n",
       "<table border=\"1\" class=\"dataframe\">\n",
       "  <thead>\n",
       "    <tr style=\"text-align: right;\">\n",
       "      <th></th>\n",
       "      <th>Vx_sim</th>\n",
       "      <th>Vy_sim</th>\n",
       "      <th>Vz_sim</th>\n",
       "      <th>date</th>\n",
       "      <th>id</th>\n",
       "      <th>sat_id</th>\n",
       "      <th>time</th>\n",
       "      <th>x_sim</th>\n",
       "      <th>y_sim</th>\n",
       "      <th>z_sim</th>\n",
       "    </tr>\n",
       "  </thead>\n",
       "  <tbody>\n",
       "    <tr>\n",
       "      <td>2014-02-01 00:01:00</td>\n",
       "      <td>4.307509</td>\n",
       "      <td>-0.730029</td>\n",
       "      <td>0.828370</td>\n",
       "      <td>2014-02-01 00:01:00</td>\n",
       "      <td>3927.0</td>\n",
       "      <td>1.0</td>\n",
       "      <td>1.391213e+09</td>\n",
       "      <td>-13579.030167</td>\n",
       "      <td>-14227.483997</td>\n",
       "      <td>6360.466650</td>\n",
       "    </tr>\n",
       "    <tr>\n",
       "      <td>2014-02-01 00:02:00</td>\n",
       "      <td>4.342584</td>\n",
       "      <td>-0.680342</td>\n",
       "      <td>0.804909</td>\n",
       "      <td>2014-02-01 00:02:00</td>\n",
       "      <td>NaN</td>\n",
       "      <td>1.0</td>\n",
       "      <td>1.391213e+09</td>\n",
       "      <td>-13296.178407</td>\n",
       "      <td>-14239.843338</td>\n",
       "      <td>6395.543856</td>\n",
       "    </tr>\n",
       "    <tr>\n",
       "      <td>2014-02-01 00:03:00</td>\n",
       "      <td>4.377659</td>\n",
       "      <td>-0.630655</td>\n",
       "      <td>0.781448</td>\n",
       "      <td>2014-02-01 00:03:00</td>\n",
       "      <td>NaN</td>\n",
       "      <td>1.0</td>\n",
       "      <td>1.391213e+09</td>\n",
       "      <td>-13013.326648</td>\n",
       "      <td>-14252.202678</td>\n",
       "      <td>6430.621062</td>\n",
       "    </tr>\n",
       "  </tbody>\n",
       "</table>\n",
       "</div>"
      ],
      "text/plain": [
       "                       Vx_sim    Vy_sim    Vz_sim                date      id  \\\n",
       "2014-02-01 00:01:00  4.307509 -0.730029  0.828370 2014-02-01 00:01:00  3927.0   \n",
       "2014-02-01 00:02:00  4.342584 -0.680342  0.804909 2014-02-01 00:02:00     NaN   \n",
       "2014-02-01 00:03:00  4.377659 -0.630655  0.781448 2014-02-01 00:03:00     NaN   \n",
       "\n",
       "                     sat_id          time         x_sim         y_sim  \\\n",
       "2014-02-01 00:01:00     1.0  1.391213e+09 -13579.030167 -14227.483997   \n",
       "2014-02-01 00:02:00     1.0  1.391213e+09 -13296.178407 -14239.843338   \n",
       "2014-02-01 00:03:00     1.0  1.391213e+09 -13013.326648 -14252.202678   \n",
       "\n",
       "                           z_sim  \n",
       "2014-02-01 00:01:00  6360.466650  \n",
       "2014-02-01 00:02:00  6395.543856  \n",
       "2014-02-01 00:03:00  6430.621062  "
      ]
     },
     "execution_count": 19,
     "metadata": {},
     "output_type": "execute_result"
    }
   ],
   "source": [
    "df_final.head(3)"
   ]
  },
  {
   "cell_type": "code",
   "execution_count": 20,
   "metadata": {},
   "outputs": [
    {
     "name": "stdout",
     "output_type": "stream",
     "text": [
      "<class 'pandas.core.frame.DataFrame'>\n",
      "DatetimeIndex: 12024684 entries, 2014-02-01 00:01:00 to 2014-02-28 22:30:00\n",
      "Data columns (total 10 columns):\n",
      "Vx_sim    float64\n",
      "Vy_sim    float64\n",
      "Vz_sim    float64\n",
      "date      datetime64[ns]\n",
      "id        float64\n",
      "sat_id    float64\n",
      "time      float64\n",
      "x_sim     float64\n",
      "y_sim     float64\n",
      "z_sim     float64\n",
      "dtypes: datetime64[ns](1), float64(9)\n",
      "memory usage: 1009.2 MB\n"
     ]
    }
   ],
   "source": [
    "df_final.info()"
   ]
  },
  {
   "cell_type": "markdown",
   "metadata": {},
   "source": [
    "Сохраним в файл:"
   ]
  },
  {
   "cell_type": "code",
   "execution_count": 21,
   "metadata": {},
   "outputs": [],
   "source": [
    "df_final.to_csv('data/Track 1/test_final.csv')"
   ]
  }
 ],
 "metadata": {
  "kernelspec": {
   "display_name": "Python 3",
   "language": "python",
   "name": "python3"
  },
  "language_info": {
   "codemirror_mode": {
    "name": "ipython",
    "version": 3
   },
   "file_extension": ".py",
   "mimetype": "text/x-python",
   "name": "python",
   "nbconvert_exporter": "python",
   "pygments_lexer": "ipython3",
   "version": "3.7.4"
  }
 },
 "nbformat": 4,
 "nbformat_minor": 2
}
